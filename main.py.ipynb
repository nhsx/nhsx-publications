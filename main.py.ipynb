{
 "cells": [
  {
   "cell_type": "code",
   "execution_count": null,
   "metadata": {},
   "outputs": [],
   "source": [
    "import requests\n",
    "import json\n",
    "import pprint\n",
    "import pandas as pd\n",
    "import numpy as np\n",
    "#!pip install xmltodict\n",
    "import xmltodict\n",
    "from xml.etree import ElementTree\n",
    "#!pip install pymed\n",
    "from pymed import PubMed\n",
    "#!pip install Bio\n",
    "from Bio import Entrez\n",
    "#!pip install plotly\n",
    "import plotly\n",
    "import plotly.graph_objects as go\n",
    "import plotly.express as px\n",
    "from datetime import datetime"
   ]
  },
  {
   "cell_type": "code",
   "execution_count": null,
   "metadata": {},
   "outputs": [],
   "source": []
  },
  {
   "cell_type": "code",
   "execution_count": null,
   "metadata": {
    "scrolled": false
   },
   "outputs": [],
   "source": [
    "#https://stackoverflow.com/questions/57053378/query-pubmed-with-python-how-to-get-all-article-details-from-query-to-pandas-d\n",
    "pubmed = PubMed(tool=\"PubMedSearcher\", email=\"martina.fonseca@nhsx.nhs.uk\")\n",
    "results = pubmed.query('nhsx[affiliation]', max_results=500) # number might need to be updated in future, for now low\n",
    "articleList = []\n",
    "articleInfo = []\n",
    "\n",
    "for article in results:\n",
    "# Print the type of object we've found (can be either PubMedBookArticle or PubMedArticle).\n",
    "    articleDict = article.toDict() # convert to dictionary\n",
    "    articleList.append(articleDict)\n",
    "\n",
    "# Generate list of dict records which will hold all article details that could be fetch from PUBMED API\n",
    "for article in articleList:\n",
    "#Sometimes article['pubmed_id'] contains list separated with comma - take first pubmedId in that list - thats article pubmedId\n",
    "    pubmedId = article['pubmed_id'].partition('\\n')[0] # keep only pubmed id\n",
    "    # Append article info to dictionary #\n",
    "    articleInfo.append({u'pubmed_id':pubmedId,\n",
    "                       u'title':article['title'],\n",
    "                       u'keywords':article['keywords'],\n",
    "                       u'journal':article['journal'],\n",
    "                       u'abstract':article['abstract'],\n",
    "                       u'conclusions':article['conclusions'],\n",
    "                       u'methods':article['methods'],\n",
    "                       u'results': article['results'],\n",
    "                       u'copyrights':article['copyrights'],\n",
    "                       u'doi':article['doi'],\n",
    "                       u'publication_date':article['publication_date'], \n",
    "                       u'authors':article['authors']})\n",
    "\n",
    "# Convert list of dictionaries to pandas DataFrame\n",
    "articlesPD = pd.DataFrame.from_dict(articleInfo)\n",
    "#export_csv = df.to_csv (r'C:\\Users\\YourUsernam\\Desktop\\export_dataframe.csv', index = None, header=True) \n",
    "\n",
    "#Print first 10 rows of dataframe\n",
    "articlesPD.head(10)\n",
    "#print(articlesPD['title'])\n",
    "#print(articlesPD['keywords'])\n",
    "#print(articleList)"
   ]
  },
  {
   "cell_type": "markdown",
   "metadata": {},
   "source": [
    "#### Unravel author list, retain initial + surname"
   ]
  },
  {
   "cell_type": "code",
   "execution_count": null,
   "metadata": {},
   "outputs": [],
   "source": [
    "i=0\n",
    "Authors_np=np.array([])\n",
    "for element in articlesPD[\"authors\"]:\n",
    "    mystring= \"\"\n",
    "    for author in element:\n",
    "        if author['affiliation'].lower().find(\"nhsx\")== -1:\n",
    "            mystring = mystring + author['lastname'] + \" \" + author['initials'] + \", \"\n",
    "        else:\n",
    "            mystring = mystring + \"<b>\" + author['lastname'] + \" \" + author['initials'] + \"</b>, \"\n",
    "     \n",
    "    Authors_np=np.append(Authors_np,mystring[:-2])\n",
    "    #articlesPD[\"Authors\"][i]=mystring[:-1]\n",
    "    i=i+1"
   ]
  },
  {
   "cell_type": "code",
   "execution_count": null,
   "metadata": {},
   "outputs": [],
   "source": [
    "articlesPD[\"Authors\"]=Authors_np"
   ]
  },
  {
   "cell_type": "markdown",
   "metadata": {},
   "source": [
    "#### Obtain number of forward cites (only from Pubmed articles cited in PMC - current API that is available)"
   ]
  },
  {
   "cell_type": "code",
   "execution_count": null,
   "metadata": {},
   "outputs": [],
   "source": [
    "#https://gist.github.com/mcfrank/c1ec74df1427278cbe53\n",
    "Entrez.email = \"martina.fonseca@nhsx.nhs.uk\""
   ]
  },
  {
   "cell_type": "code",
   "execution_count": null,
   "metadata": {},
   "outputs": [],
   "source": [
    "def get_onwardlinks_id(pmid):\n",
    "  link_list = []\n",
    "  links = Entrez.elink(dbfrom=\"pubmed\", id=pmid, linkname=\"pubmed_pmc_refs\")\t\n",
    "  record = Entrez.read(links)\n",
    "  if record[0]['LinkSetDb']!=[]:\n",
    "    records = record[0][u'LinkSetDb'][0][u'Link']\n",
    "    for link in records:\n",
    "      link_list.append(link[u'Id'])\n",
    "  return link_list"
   ]
  },
  {
   "cell_type": "code",
   "execution_count": null,
   "metadata": {},
   "outputs": [],
   "source": [
    "#https://stackoverflow.com/questions/26483254/python-pandas-insert-list-into-a-cell\n",
    "i=0\n",
    "#citations_np=np.array([])\n",
    "articlesPD['citations_list']=np.nan\n",
    "articlesPD['citations_list']=articlesPD['citations_list'].astype(object)\n",
    "for element in articlesPD[\"pubmed_id\"]:\n",
    "    print(element)\n",
    "    citations_this = get_onwardlinks_id(element)\n",
    "    articlesPD.at[i,'citations_list']=citations_this\n",
    "    i=i+1\n",
    "     \n",
    "    #citations_np=np.append(citations_np,citations_this,axis=1)\n",
    "#articlesPD[\"List_citations\"]=citations_np"
   ]
  },
  {
   "cell_type": "code",
   "execution_count": null,
   "metadata": {},
   "outputs": [],
   "source": [
    "len(citations_this)"
   ]
  },
  {
   "cell_type": "code",
   "execution_count": null,
   "metadata": {},
   "outputs": [],
   "source": [
    "articlesPD[\"No. PMC Citations\"]=articlesPD[\"citations_list\"].apply(lambda x: len(x))"
   ]
  },
  {
   "cell_type": "code",
   "execution_count": null,
   "metadata": {},
   "outputs": [],
   "source": [
    "articlesPD.head()"
   ]
  },
  {
   "cell_type": "code",
   "execution_count": null,
   "metadata": {},
   "outputs": [],
   "source": [
    "articlesPD[\"DOI\"] = \"<a href='\" + \"http://doi.org/\" +articlesPD[\"doi\"] + \"'>\" + articlesPD[\"doi\"] + \"</a>\" # create DOI column that is html link to DOI page"
   ]
  },
  {
   "cell_type": "code",

   "execution_count": 12,
   "metadata": {},
   "outputs": [
    {
     "data": {
      "text/plain": [
       "''"
      ]
     },
     "execution_count": 12,
     "metadata": {},
     "output_type": "execute_result"
    }
   ],

   "source": [
    "', '.join([str(x) for x in articlesPD[\"keywords\"][2]])  # list comprehension"
   ]
  },
  {
   "cell_type": "code",

   "execution_count": 13,

   "metadata": {},
   "outputs": [],
   "source": [
    "articlesPD[\"Keywords\"]=articlesPD[\"keywords\"].apply(lambda keyword_list: ', '.join([str(x) for x in keyword_list]))"
   ]
  },
  {
   "cell_type": "code",

   "execution_count": 14,
   "metadata": {},
   "outputs": [
    {
     "data": {
      "text/html": [
       "<div>\n",
       "<style scoped>\n",
       "    .dataframe tbody tr th:only-of-type {\n",
       "        vertical-align: middle;\n",
       "    }\n",
       "\n",
       "    .dataframe tbody tr th {\n",
       "        vertical-align: top;\n",
       "    }\n",
       "\n",
       "    .dataframe thead th {\n",
       "        text-align: right;\n",
       "    }\n",
       "</style>\n",
       "<table border=\"1\" class=\"dataframe\">\n",
       "  <thead>\n",
       "    <tr style=\"text-align: right;\">\n",
       "      <th></th>\n",
       "      <th>pubmed_id</th>\n",
       "      <th>title</th>\n",
       "      <th>keywords</th>\n",
       "      <th>journal</th>\n",
       "      <th>abstract</th>\n",
       "      <th>conclusions</th>\n",
       "      <th>methods</th>\n",
       "      <th>results</th>\n",
       "      <th>copyrights</th>\n",
       "      <th>doi</th>\n",
       "      <th>publication_date</th>\n",
       "      <th>authors</th>\n",
       "      <th>Authors</th>\n",
       "      <th>citations_list</th>\n",
       "      <th>No. PMC Citations</th>\n",
       "      <th>DOI</th>\n",
       "      <th>Keywords</th>\n",
       "    </tr>\n",
       "  </thead>\n",
       "  <tbody>\n",
       "    <tr>\n",
       "      <th>0</th>\n",
       "      <td>33094226</td>\n",
       "      <td>Digital health - a trainee's perspective.</td>\n",
       "      <td>[QI, Trainee, digital, training]</td>\n",
       "      <td>Future healthcare journal</td>\n",
       "      <td>As we shift towards using digital systems, and...</td>\n",
       "      <td>None</td>\n",
       "      <td>None</td>\n",
       "      <td>None</td>\n",
       "      <td>© Royal College of Physicians 2020. All rights...</td>\n",
       "      <td>10.7861/fhj.dig-2020-trai</td>\n",
       "      <td>2020-10-24</td>\n",
       "      <td>[{'lastname': 'Maguire', 'firstname': 'James',...</td>\n",
       "      <td>&lt;b&gt;Maguire J&lt;/b&gt;</td>\n",
       "      <td>[]</td>\n",
       "      <td>0</td>\n",
       "      <td>&lt;a href='http://doi.org/10.7861/fhj.dig-2020-t...</td>\n",
       "      <td>QI, Trainee, digital, training</td>\n",
       "    </tr>\n",
       "    <tr>\n",
       "      <th>1</th>\n",
       "      <td>32702587</td>\n",
       "      <td>The ethics of AI in health care: A mapping rev...</td>\n",
       "      <td>[Artificial intelligence, Ethics, Health polic...</td>\n",
       "      <td>Social science &amp; medicine (1982)</td>\n",
       "      <td>This article presents a mapping review of the ...</td>\n",
       "      <td>None</td>\n",
       "      <td>None</td>\n",
       "      <td>None</td>\n",
       "      <td>Copyright © 2020 Elsevier Ltd. All rights rese...</td>\n",
       "      <td>10.1016/j.socscimed.2020.113172</td>\n",
       "      <td>2020-07-24</td>\n",
       "      <td>[{'lastname': 'Morley', 'firstname': 'Jessica'...</td>\n",
       "      <td>Morley J, Machado CCV, Burr C, Cowls J, &lt;b&gt;Jos...</td>\n",
       "      <td>[8099995, 7955618, 7885243, 7571864]</td>\n",
       "      <td>4</td>\n",
       "      <td>&lt;a href='http://doi.org/10.1016/j.socscimed.20...</td>\n",
       "      <td>Artificial intelligence, Ethics, Health polici...</td>\n",
       "    </tr>\n",
       "    <tr>\n",
       "      <th>2</th>\n",
       "      <td>32672131</td>\n",
       "      <td>Bringing NHS data analysis into the 21st century.</td>\n",
       "      <td>[]</td>\n",
       "      <td>Journal of the Royal Society of Medicine</td>\n",
       "      <td>None</td>\n",
       "      <td>None</td>\n",
       "      <td>None</td>\n",
       "      <td>None</td>\n",
       "      <td>None</td>\n",
       "      <td>10.1177/0141076820930666</td>\n",
       "      <td>2020-07-17</td>\n",
       "      <td>[{'lastname': 'Goldacre', 'firstname': 'Ben', ...</td>\n",
       "      <td>Goldacre B, Bardsley M, Benson T, Cheema K, Ch...</td>\n",
       "      <td>[7754812]</td>\n",
       "      <td>1</td>\n",
       "      <td>&lt;a href='http://doi.org/10.1177/01410768209306...</td>\n",
       "      <td></td>\n",
       "    </tr>\n",
       "    <tr>\n",
       "      <th>3</th>\n",
       "      <td>32616598</td>\n",
       "      <td>Using imaging to combat a pandemic: rationale ...</td>\n",
       "      <td>[]</td>\n",
       "      <td>The European respiratory journal</td>\n",
       "      <td>None</td>\n",
       "      <td>None</td>\n",
       "      <td>None</td>\n",
       "      <td>None</td>\n",
       "      <td>None</td>\n",
       "      <td>10.1183/13993003.01809-2020</td>\n",
       "      <td>2020-07-04</td>\n",
       "      <td>[{'lastname': 'Jacob', 'firstname': 'Joseph', ...</td>\n",
       "      <td>Jacob J, Alexander D, Baillie JK, Berka R, Ber...</td>\n",
       "      <td>[8155634, 8085195, 7769066, 7543687]</td>\n",
       "      <td>4</td>\n",
       "      <td>&lt;a href='http://doi.org/10.1183/13993003.01809...</td>\n",
       "      <td></td>\n",
       "    </tr>\n",
       "    <tr>\n",
       "      <th>4</th>\n",
       "      <td>32010451</td>\n",
       "      <td>Supporting early clinical careers in digital h...</td>\n",
       "      <td>[]</td>\n",
       "      <td>Digital health</td>\n",
       "      <td>None</td>\n",
       "      <td>None</td>\n",
       "      <td>None</td>\n",
       "      <td>None</td>\n",
       "      <td>None</td>\n",
       "      <td>10.1177/2055207619899798</td>\n",
       "      <td>2020-02-06</td>\n",
       "      <td>[{'lastname': 'Robbins', 'firstname': 'Tim', '...</td>\n",
       "      <td>Robbins T, Zucker K, Abdulhussein H, Chaplin V...</td>\n",
       "      <td>[]</td>\n",
       "      <td>0</td>\n",
       "      <td>&lt;a href='http://doi.org/10.1177/20552076198997...</td>\n",
       "      <td></td>\n",
       "    </tr>\n",
       "  </tbody>\n",
       "</table>\n",
       "</div>"
      ],
      "text/plain": [
       "  pubmed_id                                              title  \\\n",
       "0  33094226          Digital health - a trainee's perspective.   \n",
       "1  32702587  The ethics of AI in health care: A mapping rev...   \n",
       "2  32672131  Bringing NHS data analysis into the 21st century.   \n",
       "3  32616598  Using imaging to combat a pandemic: rationale ...   \n",
       "4  32010451  Supporting early clinical careers in digital h...   \n",
       "\n",
       "                                            keywords  \\\n",
       "0                   [QI, Trainee, digital, training]   \n",
       "1  [Artificial intelligence, Ethics, Health polic...   \n",
       "2                                                 []   \n",
       "3                                                 []   \n",
       "4                                                 []   \n",
       "\n",
       "                                    journal  \\\n",
       "0                 Future healthcare journal   \n",
       "1          Social science & medicine (1982)   \n",
       "2  Journal of the Royal Society of Medicine   \n",
       "3          The European respiratory journal   \n",
       "4                            Digital health   \n",
       "\n",
       "                                            abstract conclusions methods  \\\n",
       "0  As we shift towards using digital systems, and...        None    None   \n",
       "1  This article presents a mapping review of the ...        None    None   \n",
       "2                                               None        None    None   \n",
       "3                                               None        None    None   \n",
       "4                                               None        None    None   \n",
       "\n",
       "  results                                         copyrights  \\\n",
       "0    None  © Royal College of Physicians 2020. All rights...   \n",
       "1    None  Copyright © 2020 Elsevier Ltd. All rights rese...   \n",
       "2    None                                               None   \n",
       "3    None                                               None   \n",
       "4    None                                               None   \n",
       "\n",
       "                               doi publication_date  \\\n",
       "0        10.7861/fhj.dig-2020-trai       2020-10-24   \n",
       "1  10.1016/j.socscimed.2020.113172       2020-07-24   \n",
       "2         10.1177/0141076820930666       2020-07-17   \n",
       "3      10.1183/13993003.01809-2020       2020-07-04   \n",
       "4         10.1177/2055207619899798       2020-02-06   \n",
       "\n",
       "                                             authors  \\\n",
       "0  [{'lastname': 'Maguire', 'firstname': 'James',...   \n",
       "1  [{'lastname': 'Morley', 'firstname': 'Jessica'...   \n",
       "2  [{'lastname': 'Goldacre', 'firstname': 'Ben', ...   \n",
       "3  [{'lastname': 'Jacob', 'firstname': 'Joseph', ...   \n",
       "4  [{'lastname': 'Robbins', 'firstname': 'Tim', '...   \n",
       "\n",
       "                                             Authors  \\\n",
       "0                                   <b>Maguire J</b>   \n",
       "1  Morley J, Machado CCV, Burr C, Cowls J, <b>Jos...   \n",
       "2  Goldacre B, Bardsley M, Benson T, Cheema K, Ch...   \n",
       "3  Jacob J, Alexander D, Baillie JK, Berka R, Ber...   \n",
       "4  Robbins T, Zucker K, Abdulhussein H, Chaplin V...   \n",
       "\n",
       "                         citations_list  No. PMC Citations  \\\n",
       "0                                    []                  0   \n",
       "1  [8099995, 7955618, 7885243, 7571864]                  4   \n",
       "2                             [7754812]                  1   \n",
       "3  [8155634, 8085195, 7769066, 7543687]                  4   \n",
       "4                                    []                  0   \n",
       "\n",
       "                                                 DOI  \\\n",
       "0  <a href='http://doi.org/10.7861/fhj.dig-2020-t...   \n",
       "1  <a href='http://doi.org/10.1016/j.socscimed.20...   \n",
       "2  <a href='http://doi.org/10.1177/01410768209306...   \n",
       "3  <a href='http://doi.org/10.1183/13993003.01809...   \n",
       "4  <a href='http://doi.org/10.1177/20552076198997...   \n",
       "\n",
       "                                            Keywords  \n",
       "0                     QI, Trainee, digital, training  \n",
       "1  Artificial intelligence, Ethics, Health polici...  \n",
       "2                                                     \n",
       "3                                                     \n",
       "4                                                     "
      ]
     },
     "execution_count": 14,
     "metadata": {},
     "output_type": "execute_result"
    }
   ],
   "source": [
    "articlesPD.head()"
   ]
  },
  {
   "cell_type": "code",

   "execution_count": 15,

   "metadata": {},
   "outputs": [],
   "source": [
    "articlesPD[\"DOIbullets\"] = \"<a href='\" + \"http://doi.org/\" +articlesPD[\"doi\"] + \"'>\" + articlesPD[\"title\"] + \"</a>\" # create DOI column that is html link to DOI page"
   ]
  },
  {
   "cell_type": "code",

   "execution_count": 18,
   "metadata": {},
   "outputs": [],
   "source": [
    "# cs branch - adapted\n",
    "def ulify(elements):\n",
    "    string = \"<ul>\"\n",
    "    string += \"\".join([\"<li>\" + str(s) + \"</li>\" for s in elements])\n",
    "    string += \"</ul>\"\n",
    "    return string"
   ]
  },
  {
   "cell_type": "code",

   "execution_count": 19,
   "metadata": {},
   "outputs": [],
   "source": [
    "html_list = ulify(articlesPD[\"DOIbullets\"])"
   ]
  },
  {
   "cell_type": "code",

   "execution_count": 20,
   "metadata": {},
   "outputs": [],
   "source": [
    "with open(\"_includes/publications.html\", \"w\") as file:\n",
    "    file.write(html_list)"
   ]
  },
  {
   "cell_type": "code",

   "execution_count": 21,
   "metadata": {},
   "outputs": [],
   "source": [
    "articlesPD_sel = articlesPD[[\"publication_date\",\"DOIbullets\",\"journal\",\"Authors\",\"No. PMC Citations\",\"Keywords\"]].copy()"
   ]
  },
  {
   "cell_type": "code",

   "execution_count": 22,
   "metadata": {},
   "outputs": [],
   "source": [
    "articlesPD_sel=articlesPD_sel.rename(columns={\"DOIbullets\": \"Publication Title\", \"journal\": \"Journal\",\"publication_date\":\"Publication Date\"})"
   ]
  },
  {
   "cell_type": "code",
   "execution_count": null,
   "metadata": {},
   "outputs": [],
   "source": [
    "articlesPD_sel"
   ]
  },
  {
   "cell_type": "code",
   "execution_count": null,
   "metadata": {},
   "outputs": [],
   "source": [
    "# new style table\n",
    "aggregate_latest_html = articlesPD_sel.to_html(\n",
    "    index=False, render_links=True, escape=False\n",
    ")\n",
    "aggregate_latest_html = aggregate_latest_html.replace(\n",
    "    \"dataframe\", \"nhsuk-table__panel-with-heading-tab\"\n",
    ")\n",
    "aggregate_latest_html = aggregate_latest_html.replace('border=\"1\"', \"\")\n",
    "with open(\"_includes/NHSUK_table.html\", \"w\") as file:\n",
    "    file.write(aggregate_latest_html)"
   ]
  },
  {
   "cell_type": "code",

   "execution_count": 23,
   "metadata": {},
   "outputs": [],
   "source": [
    "# Create output table\n",
    "#layout = go.Layout( autosize=True, **margin={'l': 0, 'r': 0, 't': 20, 'b': 0}**)\n",
    "fig = go.Figure()\n",
    "fig.add_trace(\n",
    "    go.Table(\n",
    "        columnorder = [1,2,3,4,5,6,7],\n",
    "        columnwidth = [80,160,80,160,80,80,80],\n",
    "        header=dict(\n",
    "            values=[\"<b>\" + c + \"<b>\" for c in articlesPD_sel.columns],\n",
    "            fill_color=\"rgba(240, 244, 245, 1)\",\n",
    "            align=\"left\",\n",
    "        ),\n",
    "        cells=dict(\n",
    "            values=articlesPD_sel.T.values.tolist(), # dataframe > transpose > list\n",
    "            fill_color=\"rgba(240, 244, 245, 1)\",\n",
    "            align=\"left\",\n",
    "        ),\n",
    "    )\n",
    ")\n",
    "\n",
    "# Asthetics of the table\n",
    "fig.update_layout(\n",
    "    {\n",
    "        \"plot_bgcolor\": \"rgba(240, 244, 245, 1)\",\n",
    "        \"paper_bgcolor\": \"rgba(240, 244, 245, 1)\",\n",
    "    },\n",
    "    autosize=True,\n",
    "    height=600,\n",
    "    width=1300\n",
    ")\n",
    "\n",
    "\n",
    "# Write out to file (.html)\n",
    "config = {\"displayModeBar\": False, \"displaylogo\": False}\n",
    "plotly_table = plotly.offline.plot(\n",
    "    fig, include_plotlyjs=False, output_type=\"div\", config=config\n",
    ")\n",
    "with open(\"_includes/plotly_table_nhsx.html\", \"w\") as file:\n",
    "    file.write(plotly_table)"
   ]
  },
  {
   "cell_type": "code",
   "execution_count": null,
   "metadata": {},
   "outputs": [],
   "source": []
  },
  {
   "cell_type": "code",

   "execution_count": 24,
   "metadata": {},
   "outputs": [],
   "source": [
    "# Grab timestamp\n",
    "data_updated = datetime.now().strftime(\"%d/%m/%Y\")\n",
    "\n",
    "# Write out to file (.html)\n",
    "html_str = (\n",
    "    '<p><svg xmlns=\"http://www.w3.org/2000/svg\" viewBox=\"0 0 16 16\" width=\"16\" height=\"16\"><path fill-rule=\"evenodd\" d=\"M1.5 8a6.5 6.5 0 1113 0 6.5 6.5 0 01-13 0zM8 0a8 8 0 100 16A8 8 0 008 0zm.5 4.75a.75.75 0 00-1.5 0v3.5a.75.75 0 00.471.696l2.5 1a.75.75 0 00.557-1.392L8.5 7.742V4.75z\"></path></svg> Latest Data: '\n",
    "    + data_updated\n",
    "    + \"</p>\"\n",
    ")\n",
    "with open(\"_includes/update.html\", \"w\") as file:\n",
    "    file.write(html_str)"
   ]
  },
  {
   "cell_type": "markdown",
   "metadata": {},
   "source": [
    "#### Fetching also yearly publications with NHS[affiliation] authors (time-series)"
   ]
  },
  {
   "cell_type": "code",

   "execution_count": 25,
   "metadata": {},
   "outputs": [],
   "source": [
    "def get_links_term(term,retmax=10000):\n",
    "\tlinks = Entrez.esearch(db=\"pubmed\",retmax=retmax, term=term)\t\n",
    "\trecord = Entrez.read(links)\n",
    "\t#link_list = record[u'IdList']\n",
    "\n",
    "\treturn record"
   ]
  },
  {
   "cell_type": "code",

   "execution_count": 26,
   "metadata": {},
   "outputs": [],
   "source": [
    "df_nhs_y = pd.DataFrame({'year':np.arange(2010,2022)})"
   ]
  },
  {
   "cell_type": "code",

   "execution_count": 27,
   "metadata": {},
   "outputs": [],
   "source": [
    "df_nhs_y.set_index('year',inplace=True) # reset index"
   ]
  },
  {
   "cell_type": "code",

   "execution_count": 28,
   "metadata": {},
   "outputs": [],
   "source": [
    "df_nhs_y['publications_count']=np.nan # initialise"
   ]
  },
  {
   "cell_type": "code",

   "execution_count": 29,
   "metadata": {},
   "outputs": [],
   "source": [
    "for i in df_nhs_y.index:\n",
    "  search_string='(nhs[Affiliation]) AND ((\"' + str(i) + '/01/01\"[Date - Publication] : \"' + str(i) + '/12/31\"[Date - Publication]))'\n",
    "  df_nhs_y.loc[i]['publications_count']=get_links_term(search_string,retmax=10000000)['Count']\n",
    "  print(search_string)"
   ]
  },
  {
   "cell_type": "code",

   "execution_count": 30,
   "metadata": {},
   "outputs": [],
   "source": [
    "df_nhs_y.index\n",
    "df_nhs_y['Year_datetime'] =  pd.to_datetime(df_nhs_y.index, format='%Y')"
   ]
  },
  {
   "cell_type": "code",

   "execution_count": 31,
   "metadata": {},
   "outputs": [],
   "source": [
    "# Plot figure\n",
    "fig = go.Figure([go.Bar(x=df_nhs_y.index, y=df_nhs_y['publications_count'])])\n",
    "\n",
    "# Asthetics of the plot\n",
    "fig.update_layout(\n",
    "    {\"plot_bgcolor\": \"rgba(0, 0, 0, 0)\", \"paper_bgcolor\": \"rgba(0, 0, 0, 0)\"},\n",
    "    autosize=True,\n",
    "    margin=dict(l=50, r=50, b=50, t=50, pad=4, autoexpand=True),\n",
    "    # height=1000,\n",
    "    # hovermode=\"x\",\n",
    ")\n",
    "\n",
    "# Add title and dynamic range selector to x axis\n",
    "fig.update_xaxes(\n",
    "    title_text=\"Date\",\n",
    "    rangeselector=dict(\n",
    "        buttons=list(\n",
    "            [\n",
    "                #dict(count=6, label=\"6m\", step=\"month\", stepmode=\"backward\"),\n",
    "                dict(count=1, label=\"5y\", step=\"year\", stepmode=\"backward\"),\n",
    "                dict(step=\"all\"),\n",
    "            ]\n",
    "        )\n",
    "    ),\n",
    ")\n",
    "\n",
    "# Add title to y axis\n",
    "fig.update_yaxes(title_text=\"Count of publications\")\n",
    "\n",
    "# Write out to file (.html)\n",
    "config = {\"displayModeBar\": False, \"displaylogo\": False}\n",
    "plotly_obj = plotly.offline.plot(\n",
    "    fig, include_plotlyjs=False, output_type=\"div\", config=config\n",
    ")\n",
    "with open(\"_includes/plotly_obj.html\", \"w\") as file:\n",
    "    file.write(plotly_obj)"
   ]
  },
  {
   "cell_type": "code",

   "execution_count": 32,
   "metadata": {},
   "outputs": [],
   "source": [
    "#x = pd.date_range(datetime.today(), periods=100).tolist()\n",
    "#y = random.sample(range(1, 300), 100)"
   ]
  },
  {
   "cell_type": "code",

   "execution_count": 33,
   "metadata": {},
   "outputs": [
    {
     "data": {
      "text/plain": [
       "Int64Index([2010, 2011, 2012, 2013, 2014, 2015, 2016, 2017, 2018, 2019, 2020,\n",
       "            2021],\n",
       "           dtype='int64', name='year')"
      ]
     },
     "execution_count": 33,
     "metadata": {},
     "output_type": "execute_result"
    }
   ],
   "source": [
    "df_nhs_y['Year_datetime']=df_nhs_y.index\n",
    "df_nhs_y.index"
   ]
  },
  {
   "cell_type": "code",
   "execution_count": null,
   "metadata": {},
   "outputs": [],
   "source": []
  },
  {
   "cell_type": "code",
   "execution_count": null,
   "metadata": {},
   "outputs": [],
   "source": []
  }
 ],
 "metadata": {
  "kernelspec": {
   "name": "python3",
   "display_name": "Python 3.9.5 64-bit (windows store)"
  },
  "language_info": {
   "codemirror_mode": {
    "name": "ipython",
    "version": 3
   },
   "file_extension": ".py",
   "mimetype": "text/x-python",
   "name": "python",
   "nbconvert_exporter": "python",
   "pygments_lexer": "ipython3",
   "version": "3.9.5"
  },
  "interpreter": {
   "hash": "9482e6b08417a547e39716b9af11f29f02494ba6fdc07e57d03cb8a19793fcde"
  }
 },
 "nbformat": 4,
 "nbformat_minor": 4
}