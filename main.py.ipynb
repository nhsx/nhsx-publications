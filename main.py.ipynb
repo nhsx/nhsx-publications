{
 "cells": [
  {
   "cell_type": "code",
   "execution_count": 33,
   "metadata": {},
   "outputs": [
    {
     "name": "stdout",
     "output_type": "stream",
     "text": [
      "Collecting Bio\n",
      "  Downloading bio-0.5.0-py3-none-any.whl (94 kB)\n",
      "Collecting biopython>=1.78\n",
      "  Downloading biopython-1.79-cp38-cp38-win_amd64.whl (2.3 MB)\n",
      "Collecting plac\n",
      "  Downloading plac-1.3.3-py2.py3-none-any.whl (22 kB)\n",
      "Requirement already satisfied: numpy<1.20 in c:\\users\\marti\\anaconda3\\lib\\site-packages (from Bio) (1.19.2)\n",
      "Requirement already satisfied: requests in c:\\users\\marti\\anaconda3\\lib\\site-packages (from Bio) (2.24.0)\n",
      "Requirement already satisfied: urllib3!=1.25.0,!=1.25.1,<1.26,>=1.21.1 in c:\\users\\marti\\anaconda3\\lib\\site-packages (from requests->Bio) (1.25.11)\n",
      "Requirement already satisfied: chardet<4,>=3.0.2 in c:\\users\\marti\\anaconda3\\lib\\site-packages (from requests->Bio) (3.0.4)\n",
      "Requirement already satisfied: certifi>=2017.4.17 in c:\\users\\marti\\anaconda3\\lib\\site-packages (from requests->Bio) (2020.6.20)\n",
      "Requirement already satisfied: idna<3,>=2.5 in c:\\users\\marti\\anaconda3\\lib\\site-packages (from requests->Bio) (2.10)\n",
      "Installing collected packages: biopython, plac, Bio\n",
      "Successfully installed Bio-0.5.0 biopython-1.79 plac-1.3.3\n"
     ]
    }
   ],
   "source": [
    "import requests\n",
    "import json\n",
    "import pprint\n",
    "import pandas as pd\n",
    "import numpy as np\n",
    "#!pip install xmltodict\n",
    "import xmltodict\n",
    "from xml.etree import ElementTree\n",
    "#!pip install pymed\n",
    "from pymed import PubMed\n",
    "#!pip install Bio\n",
    "from Bio import Entrez\n",
    "#!pip install plotly\n",
    "import plotly\n",
    "import plotly.graph_objects as go\n",
    "import plotly.express as px\n",
    "from datetime import datetime"
   ]
  },
  {
   "cell_type": "code",
   "execution_count": null,
   "metadata": {},
   "outputs": [],
   "source": []
  },
  {
   "cell_type": "code",
   "execution_count": 2,
   "metadata": {
    "scrolled": false
   },
   "outputs": [
    {
     "data": {
      "text/html": [
       "<div>\n",
       "<style scoped>\n",
       "    .dataframe tbody tr th:only-of-type {\n",
       "        vertical-align: middle;\n",
       "    }\n",
       "\n",
       "    .dataframe tbody tr th {\n",
       "        vertical-align: top;\n",
       "    }\n",
       "\n",
       "    .dataframe thead th {\n",
       "        text-align: right;\n",
       "    }\n",
       "</style>\n",
       "<table border=\"1\" class=\"dataframe\">\n",
       "  <thead>\n",
       "    <tr style=\"text-align: right;\">\n",
       "      <th></th>\n",
       "      <th>pubmed_id</th>\n",
       "      <th>title</th>\n",
       "      <th>keywords</th>\n",
       "      <th>journal</th>\n",
       "      <th>abstract</th>\n",
       "      <th>conclusions</th>\n",
       "      <th>methods</th>\n",
       "      <th>results</th>\n",
       "      <th>copyrights</th>\n",
       "      <th>doi</th>\n",
       "      <th>publication_date</th>\n",
       "      <th>authors</th>\n",
       "    </tr>\n",
       "  </thead>\n",
       "  <tbody>\n",
       "    <tr>\n",
       "      <th>0</th>\n",
       "      <td>33094226</td>\n",
       "      <td>Digital health - a trainee's perspective.</td>\n",
       "      <td>[QI, Trainee, digital, training]</td>\n",
       "      <td>Future healthcare journal</td>\n",
       "      <td>As we shift towards using digital systems, and...</td>\n",
       "      <td>None</td>\n",
       "      <td>None</td>\n",
       "      <td>None</td>\n",
       "      <td>© Royal College of Physicians 2020. All rights...</td>\n",
       "      <td>10.7861/fhj.dig-2020-trai</td>\n",
       "      <td>2020-10-24</td>\n",
       "      <td>[{'lastname': 'Maguire', 'firstname': 'James',...</td>\n",
       "    </tr>\n",
       "    <tr>\n",
       "      <th>1</th>\n",
       "      <td>32702587</td>\n",
       "      <td>The ethics of AI in health care: A mapping rev...</td>\n",
       "      <td>[Artificial intelligence, Ethics, Health polic...</td>\n",
       "      <td>Social science &amp; medicine (1982)</td>\n",
       "      <td>This article presents a mapping review of the ...</td>\n",
       "      <td>None</td>\n",
       "      <td>None</td>\n",
       "      <td>None</td>\n",
       "      <td>Copyright © 2020 Elsevier Ltd. All rights rese...</td>\n",
       "      <td>10.1016/j.socscimed.2020.113172</td>\n",
       "      <td>2020-07-24</td>\n",
       "      <td>[{'lastname': 'Morley', 'firstname': 'Jessica'...</td>\n",
       "    </tr>\n",
       "    <tr>\n",
       "      <th>2</th>\n",
       "      <td>32672131</td>\n",
       "      <td>Bringing NHS data analysis into the 21st century.</td>\n",
       "      <td>[]</td>\n",
       "      <td>Journal of the Royal Society of Medicine</td>\n",
       "      <td>None</td>\n",
       "      <td>None</td>\n",
       "      <td>None</td>\n",
       "      <td>None</td>\n",
       "      <td>None</td>\n",
       "      <td>10.1177/0141076820930666</td>\n",
       "      <td>2020-07-17</td>\n",
       "      <td>[{'lastname': 'Goldacre', 'firstname': 'Ben', ...</td>\n",
       "    </tr>\n",
       "    <tr>\n",
       "      <th>3</th>\n",
       "      <td>32616598</td>\n",
       "      <td>Using imaging to combat a pandemic: rationale ...</td>\n",
       "      <td>[]</td>\n",
       "      <td>The European respiratory journal</td>\n",
       "      <td>None</td>\n",
       "      <td>None</td>\n",
       "      <td>None</td>\n",
       "      <td>None</td>\n",
       "      <td>None</td>\n",
       "      <td>10.1183/13993003.01809-2020</td>\n",
       "      <td>2020-07-04</td>\n",
       "      <td>[{'lastname': 'Jacob', 'firstname': 'Joseph', ...</td>\n",
       "    </tr>\n",
       "    <tr>\n",
       "      <th>4</th>\n",
       "      <td>32010451</td>\n",
       "      <td>Supporting early clinical careers in digital h...</td>\n",
       "      <td>[]</td>\n",
       "      <td>Digital health</td>\n",
       "      <td>None</td>\n",
       "      <td>None</td>\n",
       "      <td>None</td>\n",
       "      <td>None</td>\n",
       "      <td>None</td>\n",
       "      <td>10.1177/2055207619899798</td>\n",
       "      <td>2020-02-06</td>\n",
       "      <td>[{'lastname': 'Robbins', 'firstname': 'Tim', '...</td>\n",
       "    </tr>\n",
       "  </tbody>\n",
       "</table>\n",
       "</div>"
      ],
      "text/plain": [
       "  pubmed_id                                              title  \\\n",
       "0  33094226          Digital health - a trainee's perspective.   \n",
       "1  32702587  The ethics of AI in health care: A mapping rev...   \n",
       "2  32672131  Bringing NHS data analysis into the 21st century.   \n",
       "3  32616598  Using imaging to combat a pandemic: rationale ...   \n",
       "4  32010451  Supporting early clinical careers in digital h...   \n",
       "\n",
       "                                            keywords  \\\n",
       "0                   [QI, Trainee, digital, training]   \n",
       "1  [Artificial intelligence, Ethics, Health polic...   \n",
       "2                                                 []   \n",
       "3                                                 []   \n",
       "4                                                 []   \n",
       "\n",
       "                                    journal  \\\n",
       "0                 Future healthcare journal   \n",
       "1          Social science & medicine (1982)   \n",
       "2  Journal of the Royal Society of Medicine   \n",
       "3          The European respiratory journal   \n",
       "4                            Digital health   \n",
       "\n",
       "                                            abstract conclusions methods  \\\n",
       "0  As we shift towards using digital systems, and...        None    None   \n",
       "1  This article presents a mapping review of the ...        None    None   \n",
       "2                                               None        None    None   \n",
       "3                                               None        None    None   \n",
       "4                                               None        None    None   \n",
       "\n",
       "  results                                         copyrights  \\\n",
       "0    None  © Royal College of Physicians 2020. All rights...   \n",
       "1    None  Copyright © 2020 Elsevier Ltd. All rights rese...   \n",
       "2    None                                               None   \n",
       "3    None                                               None   \n",
       "4    None                                               None   \n",
       "\n",
       "                               doi publication_date  \\\n",
       "0        10.7861/fhj.dig-2020-trai       2020-10-24   \n",
       "1  10.1016/j.socscimed.2020.113172       2020-07-24   \n",
       "2         10.1177/0141076820930666       2020-07-17   \n",
       "3      10.1183/13993003.01809-2020       2020-07-04   \n",
       "4         10.1177/2055207619899798       2020-02-06   \n",
       "\n",
       "                                             authors  \n",
       "0  [{'lastname': 'Maguire', 'firstname': 'James',...  \n",
       "1  [{'lastname': 'Morley', 'firstname': 'Jessica'...  \n",
       "2  [{'lastname': 'Goldacre', 'firstname': 'Ben', ...  \n",
       "3  [{'lastname': 'Jacob', 'firstname': 'Joseph', ...  \n",
       "4  [{'lastname': 'Robbins', 'firstname': 'Tim', '...  "
      ]
     },
     "execution_count": 2,
     "metadata": {},
     "output_type": "execute_result"
    }
   ],
   "source": [
    "#https://stackoverflow.com/questions/57053378/query-pubmed-with-python-how-to-get-all-article-details-from-query-to-pandas-d\n",
    "pubmed = PubMed(tool=\"PubMedSearcher\", email=\"martina.fonseca@nhsx.nhs.uk\")\n",
    "results = pubmed.query('nhsx[affiliation]', max_results=500) # number might need to be updated in future, for now low\n",
    "articleList = []\n",
    "articleInfo = []\n",
    "\n",
    "for article in results:\n",
    "# Print the type of object we've found (can be either PubMedBookArticle or PubMedArticle).\n",
    "    articleDict = article.toDict() # convert to dictionary\n",
    "    articleList.append(articleDict)\n",
    "\n",
    "# Generate list of dict records which will hold all article details that could be fetch from PUBMED API\n",
    "for article in articleList:\n",
    "#Sometimes article['pubmed_id'] contains list separated with comma - take first pubmedId in that list - thats article pubmedId\n",
    "    pubmedId = article['pubmed_id'].partition('\\n')[0] # keep only pubmed id\n",
    "    # Append article info to dictionary #\n",
    "    articleInfo.append({u'pubmed_id':pubmedId,\n",
    "                       u'title':article['title'],\n",
    "                       u'keywords':article['keywords'],\n",
    "                       u'journal':article['journal'],\n",
    "                       u'abstract':article['abstract'],\n",
    "                       u'conclusions':article['conclusions'],\n",
    "                       u'methods':article['methods'],\n",
    "                       u'results': article['results'],\n",
    "                       u'copyrights':article['copyrights'],\n",
    "                       u'doi':article['doi'],\n",
    "                       u'publication_date':article['publication_date'], \n",
    "                       u'authors':article['authors']})\n",
    "\n",
    "# Convert list of dictionaries to pandas DataFrame\n",
    "articlesPD = pd.DataFrame.from_dict(articleInfo)\n",
    "#export_csv = df.to_csv (r'C:\\Users\\YourUsernam\\Desktop\\export_dataframe.csv', index = None, header=True) \n",
    "\n",
    "#Print first 10 rows of dataframe\n",
    "articlesPD.head(10)\n",
    "#print(articlesPD['title'])\n",
    "#print(articlesPD['keywords'])\n",
    "#print(articleList)"
   ]
  },
  {
   "cell_type": "markdown",
   "metadata": {},
   "source": [
    "#### Unravel author list, retain initial + surname"
   ]
  },
  {
   "cell_type": "code",
   "execution_count": 22,
   "metadata": {},
   "outputs": [],
   "source": [
    "i=0\n",
    "Authors_np=np.array([])\n",
    "for element in articlesPD[\"authors\"]:\n",
    "    mystring= \"\"\n",
    "    for author in element:\n",
    "        mystring = mystring + author['lastname'] + \" \" + author['initials'] + \", \"\n",
    "     \n",
    "    Authors_np=np.append(Authors_np,mystring[:-2])\n",
    "    #articlesPD[\"Authors\"][i]=mystring[:-1]\n",
    "    i=i+1"
   ]
  },
  {
   "cell_type": "code",
   "execution_count": 23,
   "metadata": {},
   "outputs": [],
   "source": [
    "articlesPD[\"Authors\"]=Authors_np"
   ]
  },
  {
   "cell_type": "markdown",
   "metadata": {},
   "source": [
    "#### Obtain number of forward cites (only from Pubmed articles cited in PMC - current API that is available)"
   ]
  },
  {
   "cell_type": "code",
   "execution_count": 34,
   "metadata": {},
   "outputs": [],
   "source": [
    "#https://gist.github.com/mcfrank/c1ec74df1427278cbe53\n",
    "Entrez.email = \"martina.fonseca@nhsx.nhs.uk\""
   ]
  },
  {
   "cell_type": "code",
   "execution_count": 37,
   "metadata": {},
   "outputs": [],
   "source": [
    "def get_onwardlinks_id(pmid):\n",
    "  link_list = []\n",
    "  links = Entrez.elink(dbfrom=\"pubmed\", id=pmid, linkname=\"pubmed_pmc_refs\")\t\n",
    "  record = Entrez.read(links)\n",
    "  if record[0]['LinkSetDb']!=[]:\n",
    "    records = record[0][u'LinkSetDb'][0][u'Link']\n",
    "    for link in records:\n",
    "      link_list.append(link[u'Id'])\n",
    "  return link_list"
   ]
  },
  {
   "cell_type": "code",
   "execution_count": 53,
   "metadata": {},
   "outputs": [
    {
     "name": "stdout",
     "output_type": "stream",
     "text": [
      "33094226\n",
      "32702587\n",
      "32672131\n",
      "32616598\n",
      "32010451\n"
     ]
    }
   ],
   "source": [
    "#https://stackoverflow.com/questions/26483254/python-pandas-insert-list-into-a-cell\n",
    "i=0\n",
    "#citations_np=np.array([])\n",
    "articlesPD['citations_list']=np.nan\n",
    "articlesPD['citations_list']=articlesPD['citations_list'].astype(object)\n",
    "for element in articlesPD[\"pubmed_id\"]:\n",
    "    print(element)\n",
    "    citations_this = get_onwardlinks_id(element)\n",
    "    articlesPD.at[i,'citations_list']=citations_this\n",
    "    i=i+1\n",
    "     \n",
    "    #citations_np=np.append(citations_np,citations_this,axis=1)\n",
    "#articlesPD[\"List_citations\"]=citations_np"
   ]
  },
  {
   "cell_type": "code",
   "execution_count": 56,
   "metadata": {},
   "outputs": [
    {
     "data": {
      "text/plain": [
       "0"
      ]
     },
     "execution_count": 56,
     "metadata": {},
     "output_type": "execute_result"
    }
   ],
   "source": [
    "len(citations_this)"
   ]
  },
  {
   "cell_type": "code",
   "execution_count": 60,
   "metadata": {},
   "outputs": [],
   "source": [
    "articlesPD[\"No. PMC Citations\"]=articlesPD[\"citations_list\"].apply(lambda x: len(x))"
   ]
  },
  {
   "cell_type": "code",
   "execution_count": 62,
   "metadata": {},
   "outputs": [
    {
     "data": {
      "text/html": [
       "<div>\n",
       "<style scoped>\n",
       "    .dataframe tbody tr th:only-of-type {\n",
       "        vertical-align: middle;\n",
       "    }\n",
       "\n",
       "    .dataframe tbody tr th {\n",
       "        vertical-align: top;\n",
       "    }\n",
       "\n",
       "    .dataframe thead th {\n",
       "        text-align: right;\n",
       "    }\n",
       "</style>\n",
       "<table border=\"1\" class=\"dataframe\">\n",
       "  <thead>\n",
       "    <tr style=\"text-align: right;\">\n",
       "      <th></th>\n",
       "      <th>pubmed_id</th>\n",
       "      <th>title</th>\n",
       "      <th>keywords</th>\n",
       "      <th>journal</th>\n",
       "      <th>abstract</th>\n",
       "      <th>conclusions</th>\n",
       "      <th>methods</th>\n",
       "      <th>results</th>\n",
       "      <th>copyrights</th>\n",
       "      <th>doi</th>\n",
       "      <th>publication_date</th>\n",
       "      <th>authors</th>\n",
       "      <th>Authors</th>\n",
       "      <th>aa</th>\n",
       "      <th>citations_list</th>\n",
       "      <th>No. Citations</th>\n",
       "      <th>No. PMC Citations</th>\n",
       "    </tr>\n",
       "  </thead>\n",
       "  <tbody>\n",
       "    <tr>\n",
       "      <th>0</th>\n",
       "      <td>33094226</td>\n",
       "      <td>Digital health - a trainee's perspective.</td>\n",
       "      <td>[QI, Trainee, digital, training]</td>\n",
       "      <td>Future healthcare journal</td>\n",
       "      <td>As we shift towards using digital systems, and...</td>\n",
       "      <td>None</td>\n",
       "      <td>None</td>\n",
       "      <td>None</td>\n",
       "      <td>© Royal College of Physicians 2020. All rights...</td>\n",
       "      <td>10.7861/fhj.dig-2020-trai</td>\n",
       "      <td>2020-10-24</td>\n",
       "      <td>[{'lastname': 'Maguire', 'firstname': 'James',...</td>\n",
       "      <td>Maguire J</td>\n",
       "      <td>1</td>\n",
       "      <td>[]</td>\n",
       "      <td>0</td>\n",
       "      <td>0</td>\n",
       "    </tr>\n",
       "    <tr>\n",
       "      <th>1</th>\n",
       "      <td>32702587</td>\n",
       "      <td>The ethics of AI in health care: A mapping rev...</td>\n",
       "      <td>[Artificial intelligence, Ethics, Health polic...</td>\n",
       "      <td>Social science &amp; medicine (1982)</td>\n",
       "      <td>This article presents a mapping review of the ...</td>\n",
       "      <td>None</td>\n",
       "      <td>None</td>\n",
       "      <td>None</td>\n",
       "      <td>Copyright © 2020 Elsevier Ltd. All rights rese...</td>\n",
       "      <td>10.1016/j.socscimed.2020.113172</td>\n",
       "      <td>2020-07-24</td>\n",
       "      <td>[{'lastname': 'Morley', 'firstname': 'Jessica'...</td>\n",
       "      <td>Morley J, Machado CCV, Burr C, Cowls J, Joshi ...</td>\n",
       "      <td>2</td>\n",
       "      <td>[8099995, 7955618, 7885243, 7571864]</td>\n",
       "      <td>4</td>\n",
       "      <td>4</td>\n",
       "    </tr>\n",
       "    <tr>\n",
       "      <th>2</th>\n",
       "      <td>32672131</td>\n",
       "      <td>Bringing NHS data analysis into the 21st century.</td>\n",
       "      <td>[]</td>\n",
       "      <td>Journal of the Royal Society of Medicine</td>\n",
       "      <td>None</td>\n",
       "      <td>None</td>\n",
       "      <td>None</td>\n",
       "      <td>None</td>\n",
       "      <td>None</td>\n",
       "      <td>10.1177/0141076820930666</td>\n",
       "      <td>2020-07-17</td>\n",
       "      <td>[{'lastname': 'Goldacre', 'firstname': 'Ben', ...</td>\n",
       "      <td>Goldacre B, Bardsley M, Benson T, Cheema K, Ch...</td>\n",
       "      <td>3</td>\n",
       "      <td>[7754812]</td>\n",
       "      <td>1</td>\n",
       "      <td>1</td>\n",
       "    </tr>\n",
       "    <tr>\n",
       "      <th>3</th>\n",
       "      <td>32616598</td>\n",
       "      <td>Using imaging to combat a pandemic: rationale ...</td>\n",
       "      <td>[]</td>\n",
       "      <td>The European respiratory journal</td>\n",
       "      <td>None</td>\n",
       "      <td>None</td>\n",
       "      <td>None</td>\n",
       "      <td>None</td>\n",
       "      <td>None</td>\n",
       "      <td>10.1183/13993003.01809-2020</td>\n",
       "      <td>2020-07-04</td>\n",
       "      <td>[{'lastname': 'Jacob', 'firstname': 'Joseph', ...</td>\n",
       "      <td>Jacob J, Alexander D, Baillie JK, Berka R, Ber...</td>\n",
       "      <td>4</td>\n",
       "      <td>[8155634, 8085195, 7769066, 7543687]</td>\n",
       "      <td>4</td>\n",
       "      <td>4</td>\n",
       "    </tr>\n",
       "    <tr>\n",
       "      <th>4</th>\n",
       "      <td>32010451</td>\n",
       "      <td>Supporting early clinical careers in digital h...</td>\n",
       "      <td>[]</td>\n",
       "      <td>Digital health</td>\n",
       "      <td>None</td>\n",
       "      <td>None</td>\n",
       "      <td>None</td>\n",
       "      <td>None</td>\n",
       "      <td>None</td>\n",
       "      <td>10.1177/2055207619899798</td>\n",
       "      <td>2020-02-06</td>\n",
       "      <td>[{'lastname': 'Robbins', 'firstname': 'Tim', '...</td>\n",
       "      <td>Robbins T, Zucker K, Abdulhussein H, Chaplin V...</td>\n",
       "      <td>5</td>\n",
       "      <td>[]</td>\n",
       "      <td>0</td>\n",
       "      <td>0</td>\n",
       "    </tr>\n",
       "  </tbody>\n",
       "</table>\n",
       "</div>"
      ],
      "text/plain": [
       "  pubmed_id                                              title  \\\n",
       "0  33094226          Digital health - a trainee's perspective.   \n",
       "1  32702587  The ethics of AI in health care: A mapping rev...   \n",
       "2  32672131  Bringing NHS data analysis into the 21st century.   \n",
       "3  32616598  Using imaging to combat a pandemic: rationale ...   \n",
       "4  32010451  Supporting early clinical careers in digital h...   \n",
       "\n",
       "                                            keywords  \\\n",
       "0                   [QI, Trainee, digital, training]   \n",
       "1  [Artificial intelligence, Ethics, Health polic...   \n",
       "2                                                 []   \n",
       "3                                                 []   \n",
       "4                                                 []   \n",
       "\n",
       "                                    journal  \\\n",
       "0                 Future healthcare journal   \n",
       "1          Social science & medicine (1982)   \n",
       "2  Journal of the Royal Society of Medicine   \n",
       "3          The European respiratory journal   \n",
       "4                            Digital health   \n",
       "\n",
       "                                            abstract conclusions methods  \\\n",
       "0  As we shift towards using digital systems, and...        None    None   \n",
       "1  This article presents a mapping review of the ...        None    None   \n",
       "2                                               None        None    None   \n",
       "3                                               None        None    None   \n",
       "4                                               None        None    None   \n",
       "\n",
       "  results                                         copyrights  \\\n",
       "0    None  © Royal College of Physicians 2020. All rights...   \n",
       "1    None  Copyright © 2020 Elsevier Ltd. All rights rese...   \n",
       "2    None                                               None   \n",
       "3    None                                               None   \n",
       "4    None                                               None   \n",
       "\n",
       "                               doi publication_date  \\\n",
       "0        10.7861/fhj.dig-2020-trai       2020-10-24   \n",
       "1  10.1016/j.socscimed.2020.113172       2020-07-24   \n",
       "2         10.1177/0141076820930666       2020-07-17   \n",
       "3      10.1183/13993003.01809-2020       2020-07-04   \n",
       "4         10.1177/2055207619899798       2020-02-06   \n",
       "\n",
       "                                             authors  \\\n",
       "0  [{'lastname': 'Maguire', 'firstname': 'James',...   \n",
       "1  [{'lastname': 'Morley', 'firstname': 'Jessica'...   \n",
       "2  [{'lastname': 'Goldacre', 'firstname': 'Ben', ...   \n",
       "3  [{'lastname': 'Jacob', 'firstname': 'Joseph', ...   \n",
       "4  [{'lastname': 'Robbins', 'firstname': 'Tim', '...   \n",
       "\n",
       "                                             Authors  aa  \\\n",
       "0                                          Maguire J   1   \n",
       "1  Morley J, Machado CCV, Burr C, Cowls J, Joshi ...   2   \n",
       "2  Goldacre B, Bardsley M, Benson T, Cheema K, Ch...   3   \n",
       "3  Jacob J, Alexander D, Baillie JK, Berka R, Ber...   4   \n",
       "4  Robbins T, Zucker K, Abdulhussein H, Chaplin V...   5   \n",
       "\n",
       "                         citations_list  No. Citations  No. PMC Citations  \n",
       "0                                    []              0                  0  \n",
       "1  [8099995, 7955618, 7885243, 7571864]              4                  4  \n",
       "2                             [7754812]              1                  1  \n",
       "3  [8155634, 8085195, 7769066, 7543687]              4                  4  \n",
       "4                                    []              0                  0  "
      ]
     },
     "execution_count": 62,
     "metadata": {},
     "output_type": "execute_result"
    }
   ],
   "source": [
    "articlesPD.head()"
   ]
  },
  {
   "cell_type": "code",
   "execution_count": 69,
   "metadata": {},
   "outputs": [
    {
     "ename": "IndexError",
     "evalue": "only integers, slices (`:`), ellipsis (`...`), numpy.newaxis (`None`) and integer or boolean arrays are valid indices",
     "output_type": "error",
     "traceback": [
      "\u001b[1;31m---------------------------------------------------------------------------\u001b[0m",
      "\u001b[1;31mIndexError\u001b[0m                                Traceback (most recent call last)",
      "\u001b[1;32m<ipython-input-69-78d11e97ccc4>\u001b[0m in \u001b[0;36m<module>\u001b[1;34m\u001b[0m\n\u001b[1;32m----> 1\u001b[1;33m \u001b[0mcitations_np\u001b[0m\u001b[1;33m[\u001b[0m\u001b[1;34m\"DOI\"\u001b[0m\u001b[1;33m]\u001b[0m \u001b[1;33m=\u001b[0m \u001b[1;34m\"<a href='\"\u001b[0m \u001b[1;33m+\u001b[0m \u001b[1;34m\"http://doi.org\"\u001b[0m \u001b[1;33m+\u001b[0m \u001b[0mcitations_np\u001b[0m\u001b[1;33m[\u001b[0m\u001b[1;34m\"doi\"\u001b[0m\u001b[1;33m]\u001b[0m \u001b[1;33m+\u001b[0m \u001b[1;34m\"'>\"\u001b[0m \u001b[1;33m+\u001b[0m \u001b[0mcitations_np\u001b[0m\u001b[1;33m[\u001b[0m\u001b[1;34m\"doi\"\u001b[0m\u001b[1;33m]\u001b[0m \u001b[1;33m+\u001b[0m \u001b[1;34m\"</a>\"\u001b[0m \u001b[1;31m# create DOI column that is html link to DOI page\u001b[0m\u001b[1;33m\u001b[0m\u001b[1;33m\u001b[0m\u001b[0m\n\u001b[0m",
      "\u001b[1;31mIndexError\u001b[0m: only integers, slices (`:`), ellipsis (`...`), numpy.newaxis (`None`) and integer or boolean arrays are valid indices"
     ]
    }
   ],
   "source": [
    "citations_np[\"DOI\"] = \"<a href='\" + \"http://doi.org\" + citations_np[\"doi\"] + \"'>\" + citations_np[\"doi\"] + \"</a>\" # create DOI column that is html link to DOI page"
   ]
  },
  {
   "cell_type": "code",
   "execution_count": 74,
   "metadata": {},
   "outputs": [
    {
     "data": {
      "text/plain": [
       "0     <a href='http://doi.org10.7861/fhj.dig-2020-trai\n",
       "1    <a href='http://doi.org10.1016/j.socscimed.202...\n",
       "2      <a href='http://doi.org10.1177/0141076820930666\n",
       "3    <a href='http://doi.org10.1183/13993003.01809-...\n",
       "4      <a href='http://doi.org10.1177/2055207619899798\n",
       "Name: doi, dtype: object"
      ]
     },
     "execution_count": 74,
     "metadata": {},
     "output_type": "execute_result"
    }
   ],
   "source": [
    "\"<a href='\" + \"http://doi.org\"+ articlesPD[\"doi\"]"
   ]
  },
  {
   "cell_type": "code",
   "execution_count": 73,
   "metadata": {},
   "outputs": [
    {
     "ename": "IndexError",
     "evalue": "only integers, slices (`:`), ellipsis (`...`), numpy.newaxis (`None`) and integer or boolean arrays are valid indices",
     "output_type": "error",
     "traceback": [
      "\u001b[1;31m---------------------------------------------------------------------------\u001b[0m",
      "\u001b[1;31mIndexError\u001b[0m                                Traceback (most recent call last)",
      "\u001b[1;32m<ipython-input-73-1ff7f932a0cf>\u001b[0m in \u001b[0;36m<module>\u001b[1;34m\u001b[0m\n\u001b[1;32m----> 1\u001b[1;33m \u001b[0mcitations_np\u001b[0m\u001b[1;33m[\u001b[0m\u001b[1;34m\"doi\"\u001b[0m\u001b[1;33m]\u001b[0m\u001b[1;33m\u001b[0m\u001b[1;33m\u001b[0m\u001b[0m\n\u001b[0m",
      "\u001b[1;31mIndexError\u001b[0m: only integers, slices (`:`), ellipsis (`...`), numpy.newaxis (`None`) and integer or boolean arrays are valid indices"
     ]
    }
   ],
   "source": [
    "citations_np[\"doi\"]"
   ]
  },
  {
   "cell_type": "code",
   "execution_count": 46,
   "metadata": {},
   "outputs": [
    {
     "ename": "IndexError",
     "evalue": "index 0 is out of bounds for axis 0 with size 0",
     "output_type": "error",
     "traceback": [
      "\u001b[1;31m---------------------------------------------------------------------------\u001b[0m",
      "\u001b[1;31mIndexError\u001b[0m                                Traceback (most recent call last)",
      "\u001b[1;32m<ipython-input-46-11fda3f73333>\u001b[0m in \u001b[0;36m<module>\u001b[1;34m\u001b[0m\n\u001b[1;32m----> 1\u001b[1;33m \u001b[0mcitations_np\u001b[0m\u001b[1;33m[\u001b[0m\u001b[1;36m0\u001b[0m\u001b[1;33m]\u001b[0m\u001b[1;33m=\u001b[0m\u001b[1;33m[\u001b[0m\u001b[1;36m1\u001b[0m\u001b[1;33m,\u001b[0m\u001b[1;36m2\u001b[0m\u001b[1;33m,\u001b[0m\u001b[1;36m3\u001b[0m\u001b[1;33m]\u001b[0m\u001b[1;33m\u001b[0m\u001b[1;33m\u001b[0m\u001b[0m\n\u001b[0m",
      "\u001b[1;31mIndexError\u001b[0m: index 0 is out of bounds for axis 0 with size 0"
     ]
    }
   ],
   "source": [
    "citations_np[0]=[1,2,3]"
   ]
  },
  {
   "cell_type": "code",
   "execution_count": 63,
   "metadata": {},
   "outputs": [],
   "source": [
    "articlesPD_sel = articlesPD[[\"publication_date\",\"title\",\"journal\",\"Authors\",\"doi\",\"No. PMC Citations\"]].copy()"
   ]
  },
  {
   "cell_type": "code",
   "execution_count": 64,
   "metadata": {},
   "outputs": [],
   "source": [
    "articlesPD_sel=articlesPD_sel.rename(columns={\"title\": \"Publication title\", \"journal\": \"Journal\",\"publication_date\":\"Publication date\"})"
   ]
  },
  {
   "cell_type": "code",
   "execution_count": null,
   "metadata": {},
   "outputs": [],
   "source": []
  },
  {
   "cell_type": "code",
   "execution_count": null,
   "metadata": {},
   "outputs": [],
   "source": []
  },
  {
   "cell_type": "code",
   "execution_count": 65,
   "metadata": {},
   "outputs": [],
   "source": [
    "# Create output table\n",
    "fig = go.Figure()\n",
    "fig.add_trace(\n",
    "    go.Table(\n",
    "        header=dict(\n",
    "            values=[\"<b>\" + c + \"<b>\" for c in articlesPD_sel.columns],\n",
    "            fill_color=\"rgba(240, 244, 245, 1)\",\n",
    "            align=\"left\",\n",
    "        ),\n",
    "        cells=dict(\n",
    "            values=articlesPD_sel.T.values.tolist(),\n",
    "            fill_color=\"rgba(240, 244, 245, 1)\",\n",
    "            align=\"left\",\n",
    "        ),\n",
    "    )\n",
    ")\n",
    "\n",
    "# Asthetics of the table\n",
    "fig.update_layout(\n",
    "    {\n",
    "        \"plot_bgcolor\": \"rgba(240, 244, 245, 1)\",\n",
    "        \"paper_bgcolor\": \"rgba(240, 244, 245, 1)\",\n",
    "    },\n",
    "    autosize=True,\n",
    "    height=1000,\n",
    "    #width=1500\n",
    ")\n",
    "\n",
    "\n",
    "# Write out to file (.html)\n",
    "config = {\"displayModeBar\": False, \"displaylogo\": False}\n",
    "plotly_table = plotly.offline.plot(\n",
    "    fig, include_plotlyjs=False, output_type=\"div\", config=config\n",
    ")\n",
    "with open(\"_includes/plotly_table_nhsx.html\", \"w\") as file:\n",
    "    file.write(plotly_table)"
   ]
  },
  {
   "cell_type": "code",
   "execution_count": null,
   "metadata": {},
   "outputs": [],
   "source": []
  },
  {
   "cell_type": "code",
   "execution_count": 66,
   "metadata": {},
   "outputs": [],
   "source": [
    "# Grab timestamp\n",
    "data_updated = datetime.now().strftime(\"%d/%m/%Y\")\n",
    "\n",
    "# Write out to file (.html)\n",
    "html_str = (\n",
    "    '<p><svg xmlns=\"http://www.w3.org/2000/svg\" viewBox=\"0 0 16 16\" width=\"16\" height=\"16\"><path fill-rule=\"evenodd\" d=\"M1.5 8a6.5 6.5 0 1113 0 6.5 6.5 0 01-13 0zM8 0a8 8 0 100 16A8 8 0 008 0zm.5 4.75a.75.75 0 00-1.5 0v3.5a.75.75 0 00.471.696l2.5 1a.75.75 0 00.557-1.392L8.5 7.742V4.75z\"></path></svg> Latest Data: '\n",
    "    + data_updated\n",
    "    + \"</p>\"\n",
    ")\n",
    "with open(\"_includes/update.html\", \"w\") as file:\n",
    "    file.write(html_str)"
   ]
  }
 ],
 "metadata": {
  "kernelspec": {
   "display_name": "Python 3",
   "language": "python",
   "name": "python3"
  },
  "language_info": {
   "codemirror_mode": {
    "name": "ipython",
    "version": 3
   },
   "file_extension": ".py",
   "mimetype": "text/x-python",
   "name": "python",
   "nbconvert_exporter": "python",
   "pygments_lexer": "ipython3",
   "version": "3.8.5"
  }
 },
 "nbformat": 4,
 "nbformat_minor": 4
}
